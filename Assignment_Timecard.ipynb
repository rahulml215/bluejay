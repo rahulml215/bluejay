{
 "cells": [
  {
   "cell_type": "code",
   "execution_count": 3,
   "id": "edd9156d",
   "metadata": {},
   "outputs": [
    {
     "name": "stdout",
     "output_type": "stream",
     "text": [
      "Analysis results have been written to output.txt.\n"
     ]
    }
   ],
   "source": [
    "import pandas as pd\n",
    "\n",
    "def check_consecutive_days(df, output):\n",
    "\n",
    "    #Write employees who have worked for 7 consecutive days to the output file.\n",
    "\n",
    "    consecutive_days_threshold = 7\n",
    "\n",
    "    for index, row in df.iterrows():\n",
    "        consecutive_days = 1\n",
    "        current_employee = row['Employee Name']\n",
    "        current_time_in = row['Time']\n",
    "\n",
    "        # Check consecutive days for the same employee\n",
    "        while (index + consecutive_days < len(df) and\n",
    "               df.at[index + consecutive_days, 'Employee Name'] == current_employee and\n",
    "               df.at[index + consecutive_days, 'Time'] == current_time_in + pd.DateOffset(days=consecutive_days)):\n",
    "            consecutive_days += 1\n",
    "\n",
    "        if consecutive_days >= consecutive_days_threshold:\n",
    "            output.write(f\"{current_employee} has worked for {consecutive_days} consecutive days starting from {current_time_in}.\\n\")\n",
    "\n",
    "def check_time_between_shifts(df, output):\n",
    "    \n",
    "    #Write employees who have less than 10 hours between shifts but more than 1 hour to the output file.\n",
    "\n",
    "    min_time_between_shifts = pd.Timedelta(hours=1)\n",
    "    max_time_between_shifts = pd.Timedelta(hours=10)\n",
    "\n",
    "    for index in range(1, len(df)):\n",
    "        previous_time_out = df.at[index - 1, 'Time Out']\n",
    "        current_time_in = df.at[index, 'Time']\n",
    "\n",
    "        time_between_shifts = current_time_in - previous_time_out\n",
    "\n",
    "        if min_time_between_shifts < time_between_shifts < max_time_between_shifts:\n",
    "            output.write(f\"{df.at[index, 'Employee Name']} has less than 10 hours but more than 1 hour between shifts.\\n\")\n",
    "\n",
    "def check_long_shifts(df, output):\n",
    "    \n",
    "    #Write employees who have worked for more than 14 hours in a single shift to the output file.\n",
    "\n",
    "    max_shift_duration = pd.Timedelta(hours=14)\n",
    "\n",
    "    for index, row in df.iterrows():\n",
    "        shift_duration = row['Time Out'] - row['Time']\n",
    "\n",
    "        if shift_duration > max_shift_duration:\n",
    "            output.write(f\"{row['Employee Name']} has worked for more than 14 hours in a single shift on {row['Time']}.\\n\")\n",
    "\n",
    "def analyze_employee_data(df, output_file):\n",
    "    \n",
    "    #Analyze the employee data and write results to the specified output file.\n",
    "    if df is None:\n",
    "        return\n",
    "\n",
    "    # Sort the dataframe by employee and time in for consecutive day analysis\n",
    "    df.sort_values(by=['Employee Name', 'Time'], inplace=True)\n",
    "\n",
    "    df.reset_index(drop=True, inplace=True)\n",
    "\n",
    "    with open(output_file, 'w') as output:\n",
    "        output.write(\"Employees who have worked for 7 consecutive days:\\n\")\n",
    "        check_consecutive_days(df, output)\n",
    "\n",
    "        output.write(\"\\nEmployees who have less than 10 hours between shifts but more than 1 hour:\\n\")\n",
    "        check_time_between_shifts(df, output)\n",
    "\n",
    "        output.write(\"\\nEmployees who have worked for more than 14 hours in a single shift:\\n\")\n",
    "        check_long_shifts(df, output)\n",
    "\n",
    "if __name__ == \"__main__\":\n",
    "\n",
    "    file_path = \"Assignment_Timecard.xlsx\"\n",
    "    output_file_path = \"output.txt\"\n",
    "    employee_df = pd.read_excel(file_path)\n",
    "    analyze_employee_data(employee_df, output_file_path)\n",
    "\n",
    "    print(f\"Analysis results have been written to {output_file_path}.\")\n"
   ]
  },
  {
   "cell_type": "code",
   "execution_count": null,
   "id": "a8277ed6",
   "metadata": {},
   "outputs": [],
   "source": []
  }
 ],
 "metadata": {
  "kernelspec": {
   "display_name": "Python 3 (ipykernel)",
   "language": "python",
   "name": "python3"
  },
  "language_info": {
   "codemirror_mode": {
    "name": "ipython",
    "version": 3
   },
   "file_extension": ".py",
   "mimetype": "text/x-python",
   "name": "python",
   "nbconvert_exporter": "python",
   "pygments_lexer": "ipython3",
   "version": "3.11.3"
  }
 },
 "nbformat": 4,
 "nbformat_minor": 5
}
